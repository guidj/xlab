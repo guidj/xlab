{
 "cells": [
  {
   "cell_type": "markdown",
   "metadata": {
    "collapsed": true
   },
   "source": [
    "## Data"
   ]
  },
  {
   "cell_type": "code",
   "execution_count": 17,
   "metadata": {
    "collapsed": false
   },
   "outputs": [],
   "source": [
    "import numpy as np\n",
    "import requests\n",
    "\n",
    "import os.path\n",
    "\n",
    "def download_file(url, filepath=None, override=False):\n",
    "    \n",
    "    if filepath:\n",
    "        if filepath.endswith('/'):\n",
    "            filename = url.split('/')[-1]\n",
    "            filepath = os.path.join(filepath, filename)\n",
    "    else:\n",
    "        filepath = url.split('/')[-1]\n",
    "        \n",
    "    if override is False:\n",
    "        if os.path.exists(filepath):\n",
    "            return filepath\n",
    "            \n",
    "    res = requests.get(url, stream=True)\n",
    "    with open(filepath, 'wb') as fp:\n",
    "        for chunk in res.iter_content(chunk_size=1024): \n",
    "            if chunk: # filter out keep-alive new chunks\n",
    "                fp.write(chunk)\n",
    "    return filepath"
   ]
  },
  {
   "cell_type": "code",
   "execution_count": 18,
   "metadata": {
    "collapsed": false
   },
   "outputs": [],
   "source": [
    "url = 'http://archive.ics.uci.edu/ml/machine-learning-databases/00336/Chronic_Kidney_Disease.rar'\n",
    "filepath = download_file(url, override=False)"
   ]
  },
  {
   "cell_type": "code",
   "execution_count": null,
   "metadata": {
    "collapsed": true
   },
   "outputs": [],
   "source": []
  }
 ],
 "metadata": {
  "kernelspec": {
   "display_name": "Python 3",
   "language": "python",
   "name": "python3"
  },
  "language_info": {
   "codemirror_mode": {
    "name": "ipython",
    "version": 3
   },
   "file_extension": ".py",
   "mimetype": "text/x-python",
   "name": "python",
   "nbconvert_exporter": "python",
   "pygments_lexer": "ipython3",
   "version": "3.5.1"
  }
 },
 "nbformat": 4,
 "nbformat_minor": 0
}
