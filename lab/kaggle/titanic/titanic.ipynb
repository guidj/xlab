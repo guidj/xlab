{
 "cells": [
  {
   "cell_type": "markdown",
   "metadata": {},
   "source": [
    "# Titanic"
   ]
  },
  {
   "cell_type": "code",
   "execution_count": 1,
   "metadata": {
    "collapsed": false
   },
   "outputs": [],
   "source": [
    "%matplotlib inline\n",
    "\n",
    "import numpy as np\n",
    "import pandas as pd\n",
    "import sklearn\n",
    "from sklearn.ensemble import (RandomForestClassifier, RandomForestRegressor)\n",
    "from sklearn import svm\n",
    "from sklearn.learning_curve import validation_curve\n",
    "import matplotlib.pyplot as plt\n",
    "import matplotlib.pylab as pylab\n",
    "import seaborn as sns\n",
    "import scipy.stats as stats\n",
    "import requests\n",
    "\n",
    "import os.path\n",
    "import tempfile\n",
    "import uuid\n",
    "import random\n",
    "import csv"
   ]
  },
  {
   "cell_type": "code",
   "execution_count": 2,
   "metadata": {
    "collapsed": false
   },
   "outputs": [
    {
     "data": {
      "text/plain": [
       "<matplotlib.figure.Figure at 0x10e3b8390>"
      ]
     },
     "metadata": {},
     "output_type": "display_data"
    }
   ],
   "source": [
    "pylab.rcParams['figure.figsize'] = (16, 12)  # that's default image size for this interactive session\n",
    "plt.figure(figsize=(16, 12))\n",
    "sns.set_style(\"whitegrid\")\n",
    "\n",
    "def plot_validation_curve(traning_scores, testing_scores, param_range):\n",
    "\n",
    "    train_scores_mean = np.mean(train_scores, axis=1)\n",
    "    train_scores_std = np.std(train_scores, axis=1)\n",
    "    test_scores_mean = np.mean(test_scores, axis=1)\n",
    "    test_scores_std = np.std(test_scores, axis=1)\n",
    "\n",
    "    plt.title(\"Validation Curve with SVM\")\n",
    "    plt.xlabel(\"$\\gamma$\")\n",
    "    plt.ylabel(\"Score\")\n",
    "    plt.ylim(0.0, 1.1)\n",
    "    plt.semilogx(param_range, train_scores_mean, label=\"Training score\", color=\"r\")\n",
    "    plt.fill_between(param_range, train_scores_mean - train_scores_std,\n",
    "                     train_scores_mean + train_scores_std, alpha=0.2, color=\"r\")\n",
    "    plt.semilogx(param_range, test_scores_mean, label=\"Cross-validation score\",\n",
    "                 color=\"g\")\n",
    "    plt.fill_between(param_range, test_scores_mean - test_scores_std,\n",
    "                     test_scores_mean + test_scores_std, alpha=0.2, color=\"g\")\n",
    "    plt.legend(loc=\"best\")\n",
    "    plt.show()"
   ]
  },
  {
   "cell_type": "markdown",
   "metadata": {},
   "source": [
    "## Pre-processing Data"
   ]
  },
  {
   "cell_type": "markdown",
   "metadata": {},
   "source": [
    "First, we clean off the data, by checking for missing values, and imputing them as necessary."
   ]
  },
  {
   "cell_type": "code",
   "execution_count": 3,
   "metadata": {
    "collapsed": false
   },
   "outputs": [],
   "source": [
    "np.random.seed(7)\n",
    "\n",
    "train_file = 'train.csv'\n",
    "assess_file = 'test.csv'"
   ]
  },
  {
   "cell_type": "code",
   "execution_count": 4,
   "metadata": {
    "collapsed": false
   },
   "outputs": [],
   "source": [
    "source_df = pd.read_csv(train_file, header=0)\n",
    "assess_df = pd.read_csv(assess_file, header=0)"
   ]
  },
  {
   "cell_type": "code",
   "execution_count": 5,
   "metadata": {
    "collapsed": false,
    "scrolled": true
   },
   "outputs": [
    {
     "data": {
      "text/html": [
       "<div>\n",
       "<table border=\"1\" class=\"dataframe\">\n",
       "  <thead>\n",
       "    <tr style=\"text-align: right;\">\n",
       "      <th></th>\n",
       "      <th>PassengerId</th>\n",
       "      <th>Survived</th>\n",
       "      <th>Pclass</th>\n",
       "      <th>Name</th>\n",
       "      <th>Sex</th>\n",
       "      <th>Age</th>\n",
       "      <th>SibSp</th>\n",
       "      <th>Parch</th>\n",
       "      <th>Ticket</th>\n",
       "      <th>Fare</th>\n",
       "      <th>Cabin</th>\n",
       "      <th>Embarked</th>\n",
       "    </tr>\n",
       "  </thead>\n",
       "  <tbody>\n",
       "    <tr>\n",
       "      <th>0</th>\n",
       "      <td>1</td>\n",
       "      <td>0</td>\n",
       "      <td>3</td>\n",
       "      <td>Braund, Mr. Owen Harris</td>\n",
       "      <td>male</td>\n",
       "      <td>22.0</td>\n",
       "      <td>1</td>\n",
       "      <td>0</td>\n",
       "      <td>A/5 21171</td>\n",
       "      <td>7.2500</td>\n",
       "      <td>NaN</td>\n",
       "      <td>S</td>\n",
       "    </tr>\n",
       "    <tr>\n",
       "      <th>1</th>\n",
       "      <td>2</td>\n",
       "      <td>1</td>\n",
       "      <td>1</td>\n",
       "      <td>Cumings, Mrs. John Bradley (Florence Briggs Th...</td>\n",
       "      <td>female</td>\n",
       "      <td>38.0</td>\n",
       "      <td>1</td>\n",
       "      <td>0</td>\n",
       "      <td>PC 17599</td>\n",
       "      <td>71.2833</td>\n",
       "      <td>C85</td>\n",
       "      <td>C</td>\n",
       "    </tr>\n",
       "    <tr>\n",
       "      <th>2</th>\n",
       "      <td>3</td>\n",
       "      <td>1</td>\n",
       "      <td>3</td>\n",
       "      <td>Heikkinen, Miss. Laina</td>\n",
       "      <td>female</td>\n",
       "      <td>26.0</td>\n",
       "      <td>0</td>\n",
       "      <td>0</td>\n",
       "      <td>STON/O2. 3101282</td>\n",
       "      <td>7.9250</td>\n",
       "      <td>NaN</td>\n",
       "      <td>S</td>\n",
       "    </tr>\n",
       "    <tr>\n",
       "      <th>3</th>\n",
       "      <td>4</td>\n",
       "      <td>1</td>\n",
       "      <td>1</td>\n",
       "      <td>Futrelle, Mrs. Jacques Heath (Lily May Peel)</td>\n",
       "      <td>female</td>\n",
       "      <td>35.0</td>\n",
       "      <td>1</td>\n",
       "      <td>0</td>\n",
       "      <td>113803</td>\n",
       "      <td>53.1000</td>\n",
       "      <td>C123</td>\n",
       "      <td>S</td>\n",
       "    </tr>\n",
       "    <tr>\n",
       "      <th>4</th>\n",
       "      <td>5</td>\n",
       "      <td>0</td>\n",
       "      <td>3</td>\n",
       "      <td>Allen, Mr. William Henry</td>\n",
       "      <td>male</td>\n",
       "      <td>35.0</td>\n",
       "      <td>0</td>\n",
       "      <td>0</td>\n",
       "      <td>373450</td>\n",
       "      <td>8.0500</td>\n",
       "      <td>NaN</td>\n",
       "      <td>S</td>\n",
       "    </tr>\n",
       "  </tbody>\n",
       "</table>\n",
       "</div>"
      ],
      "text/plain": [
       "   PassengerId  Survived  Pclass  \\\n",
       "0            1         0       3   \n",
       "1            2         1       1   \n",
       "2            3         1       3   \n",
       "3            4         1       1   \n",
       "4            5         0       3   \n",
       "\n",
       "                                                Name     Sex   Age  SibSp  \\\n",
       "0                            Braund, Mr. Owen Harris    male  22.0      1   \n",
       "1  Cumings, Mrs. John Bradley (Florence Briggs Th...  female  38.0      1   \n",
       "2                             Heikkinen, Miss. Laina  female  26.0      0   \n",
       "3       Futrelle, Mrs. Jacques Heath (Lily May Peel)  female  35.0      1   \n",
       "4                           Allen, Mr. William Henry    male  35.0      0   \n",
       "\n",
       "   Parch            Ticket     Fare Cabin Embarked  \n",
       "0      0         A/5 21171   7.2500   NaN        S  \n",
       "1      0          PC 17599  71.2833   C85        C  \n",
       "2      0  STON/O2. 3101282   7.9250   NaN        S  \n",
       "3      0            113803  53.1000  C123        S  \n",
       "4      0            373450   8.0500   NaN        S  "
      ]
     },
     "execution_count": 5,
     "metadata": {},
     "output_type": "execute_result"
    }
   ],
   "source": [
    "source_df.head()"
   ]
  },
  {
   "cell_type": "markdown",
   "metadata": {},
   "source": [
    "Let's check the DataFrame for missing values"
   ]
  },
  {
   "cell_type": "code",
   "execution_count": 6,
   "metadata": {
    "collapsed": false,
    "scrolled": true
   },
   "outputs": [
    {
     "data": {
      "text/plain": [
       "PassengerId      0\n",
       "Survived         0\n",
       "Pclass           0\n",
       "Name             0\n",
       "Sex              0\n",
       "Age            177\n",
       "SibSp            0\n",
       "Parch            0\n",
       "Ticket           0\n",
       "Fare             0\n",
       "Cabin          687\n",
       "Embarked         2\n",
       "dtype: int64"
      ]
     },
     "execution_count": 6,
     "metadata": {},
     "output_type": "execute_result"
    }
   ],
   "source": [
    "source_df.apply(lambda x: sum(pd.isnull(x)))"
   ]
  },
  {
   "cell_type": "code",
   "execution_count": 7,
   "metadata": {
    "collapsed": false
   },
   "outputs": [
    {
     "data": {
      "text/plain": [
       "PassengerId      0\n",
       "Pclass           0\n",
       "Name             0\n",
       "Sex              0\n",
       "Age             86\n",
       "SibSp            0\n",
       "Parch            0\n",
       "Ticket           0\n",
       "Fare             1\n",
       "Cabin          327\n",
       "Embarked         0\n",
       "dtype: int64"
      ]
     },
     "execution_count": 7,
     "metadata": {},
     "output_type": "execute_result"
    }
   ],
   "source": [
    "assess_df.apply(lambda x: sum(pd.isnull(x)))"
   ]
  },
  {
   "cell_type": "markdown",
   "metadata": {},
   "source": [
    "From train.csv, at least two variables have missing values: Age, and Embarked. In the blind test, one entry of Fare, and, and 86 of Age also have missing values. The entry Cabin has several missing values, for most of the records, but since we won't using on our model, we need not worry about this.\n",
    "Before choosing a strategy for imputing them, we look at distribution of the variables Age, and Fare, starging with Age."
   ]
  },
  {
   "cell_type": "code",
   "execution_count": 8,
   "metadata": {
    "collapsed": false
   },
   "outputs": [
    {
     "data": {
      "image/png": "[encoded data removed]",
      "text/plain": [
       "<matplotlib.figure.Figure at 0x111160390>"
      ]
     },
     "metadata": {},
     "output_type": "display_data"
    }
   ],
   "source": [
    "_, axes = plt.subplots(2, 2)\n",
    "quadrant = [(0,0),(0,1),(1,0),(1,1)]\n",
    "\n",
    "p = source_df.Age.plot.hist(stacked=True, bins=20, ax=axes[0,0])\n",
    "p.set_title('Age Distribution')\n",
    "\n",
    "for idx, (key, grp) in enumerate(source_df.groupby(['Pclass'])):\n",
    "    p = grp.Age.plot.hist(stacked=False, bins=20, label=key, ax=axes[quadrant[idx+1][0], quadrant[idx+1][1]])\n",
    "    p.set_title('Age Dist, Class {0}'.format(key))\n",
    "plt.show()"
   ]
  },
  {
   "cell_type": "markdown",
   "metadata": {},
   "source": [
    "Age has some missing values, and its distribution seems to vary by class, so to impute them we opt for using the median from each passenger class."
   ]
  },
  {
   "cell_type": "code",
   "execution_count": 9,
   "metadata": {
    "collapsed": false
   },
   "outputs": [],
   "source": [
    "for df in (source_df, assess_df):\n",
    "    for key, grp in df.groupby(['Pclass']):    \n",
    "        df.loc[(df.Age.isnull()) & (df.Pclass == key), 'Age'] = grp.Age.dropna().median()"
   ]
  },
  {
   "cell_type": "markdown",
   "metadata": {},
   "source": [
    "The variable Embarked also has one missing value. We're going to replace it with the most common value for its class as well."
   ]
  },
  {
   "cell_type": "code",
   "execution_count": 10,
   "metadata": {
    "collapsed": false
   },
   "outputs": [],
   "source": [
    "for df in (source_df, assess_df):\n",
    "    for key, grp in df.groupby(['Pclass']):    \n",
    "        df.loc[(df.Embarked.isnull()) & (df.Pclass == key), 'Embarked'] = grp.Embarked.dropna().mode().values[0]"
   ]
  },
  {
   "cell_type": "markdown",
   "metadata": {},
   "source": [
    "We repeat the same for Fare, since fare prices are likely highly correlated to class."
   ]
  },
  {
   "cell_type": "code",
   "execution_count": 11,
   "metadata": {
    "collapsed": false
   },
   "outputs": [
    {
     "data": {
      "image/png": "[encoded data removed]",
      "text/plain": [
       "<matplotlib.figure.Figure at 0x111f1e668>"
      ]
     },
     "metadata": {},
     "output_type": "display_data"
    }
   ],
   "source": [
    "_, axes = plt.subplots(2, 2)\n",
    "quadrant = [(0,0),(0,1),(1,0),(1,1)]\n",
    "\n",
    "p = source_df.Fare.plot.hist(stacked=True, bins=20, ax=axes[0,0])\n",
    "p.set_title('Fare Distribution')\n",
    "\n",
    "for idx, (key, grp) in enumerate(source_df.groupby(['Pclass'])):\n",
    "    p = grp.Fare.plot.hist(stacked=False, bins=20, label=key, ax=axes[quadrant[idx+1][0], quadrant[idx+1][1]])\n",
    "    p.set_title('Fare Dist, Class {0}'.format(key))\n",
    "plt.show()"
   ]
  },
  {
   "cell_type": "markdown",
   "metadata": {},
   "source": [
    "While Class 1 fare prices peak at 500, Class 2 prices peak slightly above 70, and Class 3 prices below that. As with Age, we opt for the medium as a replacement value for the missing ones."
   ]
  },
  {
   "cell_type": "code",
   "execution_count": 12,
   "metadata": {
    "collapsed": false
   },
   "outputs": [],
   "source": [
    "for df in (source_df, assess_df):\n",
    "    for key, grp in df.groupby(['Pclass']):    \n",
    "        df.loc[(df.Fare.isnull()) & (df.Pclass == key), 'Fare'] = grp.Fare.dropna().median()"
   ]
  },
  {
   "cell_type": "markdown",
   "metadata": {},
   "source": [
    "## Exploration"
   ]
  },
  {
   "cell_type": "code",
   "execution_count": 13,
   "metadata": {
    "collapsed": false
   },
   "outputs": [],
   "source": [
    "for df in (source_df, assess_df):\n",
    "    for col in df.keys():\n",
    "        if col in ('Fare'):\n",
    "            df[col] = df[col].apply(pd.to_numeric)\n",
    "        elif col in ('Survived', 'Pclass', 'SibSp', 'Parch'):\n",
    "            df[col] = df[col].astype(np.int64)"
   ]
  },
  {
   "cell_type": "code",
   "execution_count": 14,
   "metadata": {
    "collapsed": false
   },
   "outputs": [
    {
     "data": {
      "text/plain": [
       "<seaborn.axisgrid.FacetGrid at 0x11119fcc0>"
      ]
     },
     "execution_count": 14,
     "metadata": {},
     "output_type": "execute_result"
    },
    {
     "data": {
      "image/png": "[encoded data removed]",
      "text/plain": [
       "<matplotlib.figure.Figure at 0x111523208>"
      ]
     },
     "metadata": {},
     "output_type": "display_data"
    },
    {
     "data": {
      "image/png": "[encoded data removed]",
      "text/plain": [
       "<matplotlib.figure.Figure at 0x112825d68>"
      ]
     },
     "metadata": {},
     "output_type": "display_data"
    }
   ],
   "source": [
    "sns.factorplot(x='Pclass', y='Survived', hue='Sex', data=source_df, kind=\"bar\", palette=\"muted\")\n",
    "sns.factorplot(x='Embarked', y='Survived', hue='Sex', data=source_df, kind=\"bar\", palette=\"muted\")"
   ]
  },
  {
   "cell_type": "markdown",
   "metadata": {},
   "source": [
    "A passenger's class appears to be one of the highest influencors in determining survival rates. More people from Class 3 died than any other class; this could be a given, since most of the passengers were from Class 3"
   ]
  },
  {
   "cell_type": "code",
   "execution_count": 15,
   "metadata": {
    "collapsed": false
   },
   "outputs": [
    {
     "data": {
      "text/plain": [
       "Pclass\n",
       "1    216\n",
       "2    184\n",
       "3    491\n",
       "dtype: int64"
      ]
     },
     "execution_count": 15,
     "metadata": {},
     "output_type": "execute_result"
    }
   ],
   "source": [
    "source_df.groupby('Pclass').size()"
   ]
  },
  {
   "cell_type": "markdown",
   "metadata": {},
   "source": [
    "Ship's voyage was Belfast, Southmapton, Cherbourg, and Queenstown, with New York as the final destination. Around 80% of the crew members were men from Southampton[[1]](http://www.articlesfactory.com/articles/other/the-roles-of-belfast-southampton-cherbourg-queenstown-and-new-york-in-the-titanic.html), and most passengers did board from that port as well, which explains the higher numbers of people from Southampton compared to the other ports.\n",
    "\n",
    "Survival rates for women are consistently higher than men. However, there are noticeable differences between survival rates within each sex when measured against tbe port of embarcation and passenger's class, hinting that both might be useful predictors.\n",
    "\n",
    "To use them in numberic algorithms, we'll each of their values into an independent variable."
   ]
  },
  {
   "cell_type": "code",
   "execution_count": 43,
   "metadata": {
    "collapsed": false
   },
   "outputs": [
    {
     "data": {
      "text/html": [
       "<div>\n",
       "<table border=\"1\" class=\"dataframe\">\n",
       "  <thead>\n",
       "    <tr style=\"text-align: right;\">\n",
       "      <th></th>\n",
       "      <th>Survived</th>\n",
       "      <th>Sex</th>\n",
       "      <th>SibSp</th>\n",
       "      <th>Parch</th>\n",
       "      <th>Embarked.S</th>\n",
       "      <th>Embarked.C</th>\n",
       "      <th>Embarked.Q</th>\n",
       "      <th>Pclass.3</th>\n",
       "      <th>Pclass.1</th>\n",
       "      <th>Pclass.2</th>\n",
       "    </tr>\n",
       "  </thead>\n",
       "  <tbody>\n",
       "    <tr>\n",
       "      <th>0</th>\n",
       "      <td>0</td>\n",
       "      <td>0</td>\n",
       "      <td>1</td>\n",
       "      <td>0</td>\n",
       "      <td>1</td>\n",
       "      <td>0</td>\n",
       "      <td>0</td>\n",
       "      <td>1</td>\n",
       "      <td>0</td>\n",
       "      <td>0</td>\n",
       "    </tr>\n",
       "    <tr>\n",
       "      <th>1</th>\n",
       "      <td>1</td>\n",
       "      <td>1</td>\n",
       "      <td>1</td>\n",
       "      <td>0</td>\n",
       "      <td>0</td>\n",
       "      <td>1</td>\n",
       "      <td>0</td>\n",
       "      <td>0</td>\n",
       "      <td>1</td>\n",
       "      <td>0</td>\n",
       "    </tr>\n",
       "    <tr>\n",
       "      <th>2</th>\n",
       "      <td>1</td>\n",
       "      <td>1</td>\n",
       "      <td>0</td>\n",
       "      <td>0</td>\n",
       "      <td>1</td>\n",
       "      <td>0</td>\n",
       "      <td>0</td>\n",
       "      <td>1</td>\n",
       "      <td>0</td>\n",
       "      <td>0</td>\n",
       "    </tr>\n",
       "    <tr>\n",
       "      <th>3</th>\n",
       "      <td>1</td>\n",
       "      <td>1</td>\n",
       "      <td>1</td>\n",
       "      <td>0</td>\n",
       "      <td>1</td>\n",
       "      <td>0</td>\n",
       "      <td>0</td>\n",
       "      <td>0</td>\n",
       "      <td>1</td>\n",
       "      <td>0</td>\n",
       "    </tr>\n",
       "    <tr>\n",
       "      <th>4</th>\n",
       "      <td>0</td>\n",
       "      <td>0</td>\n",
       "      <td>0</td>\n",
       "      <td>0</td>\n",
       "      <td>1</td>\n",
       "      <td>0</td>\n",
       "      <td>0</td>\n",
       "      <td>1</td>\n",
       "      <td>0</td>\n",
       "      <td>0</td>\n",
       "    </tr>\n",
       "  </tbody>\n",
       "</table>\n",
       "</div>"
      ],
      "text/plain": [
       "   Survived  Sex  SibSp  Parch  Embarked.S  Embarked.C  Embarked.Q  Pclass.3  \\\n",
       "0         0    0      1      0           1           0           0         1   \n",
       "1         1    1      1      0           0           1           0         0   \n",
       "2         1    1      0      0           1           0           0         1   \n",
       "3         1    1      1      0           1           0           0         0   \n",
       "4         0    0      0      0           1           0           0         1   \n",
       "\n",
       "   Pclass.1  Pclass.2  \n",
       "0         0         0  \n",
       "1         1         0  \n",
       "2         0         0  \n",
       "3         1         0  \n",
       "4         0         0  "
      ]
     },
     "execution_count": 43,
     "metadata": {},
     "output_type": "execute_result"
    }
   ],
   "source": [
    "testing_passenger_ids = assess_df['PassengerId']\n",
    "fitnessdf = source_df.drop(['Name', 'Ticket', 'Cabin', 'PassengerId'], axis=1)\n",
    "assessmentdf = assess_df.drop(['Name', 'Ticket', 'Cabin', 'PassengerId'], axis=1)\n",
    "\n",
    "for df in (fitnessdf, assessmentdf):\n",
    "    for key in df.Embarked.unique():\n",
    "        df['{}.{}'.format('Embarked', key)] = df.Embarked.apply(lambda port: 1 if port == key else 0)\n",
    "\n",
    "    for key in df.Pclass.unique():\n",
    "        df['{}.{}'.format('Pclass', key)] = df.Pclass.apply(lambda cls: 1 if cls == key else 0)\n",
    "\n",
    "    df.Sex = df.Sex.apply(lambda sex: 1 if sex == 'female' else 0)\n",
    "    df.drop(['Embarked', 'Pclass', 'Age', 'Fare'], axis=1, inplace=True)\n",
    "\n",
    "fitnessdf.head()"
   ]
  },
  {
   "cell_type": "code",
   "execution_count": 17,
   "metadata": {
    "collapsed": false
   },
   "outputs": [
    {
     "data": {
      "text/plain": [
       "<seaborn.axisgrid.PairGrid at 0x112956668>"
      ]
     },
     "execution_count": 17,
     "metadata": {},
     "output_type": "execute_result"
    },
    {
     "data": {
      "image/png": "[encoded data removed]",
      "text/plain": [
       "<matplotlib.figure.Figure at 0x112956ba8>"
      ]
     },
     "metadata": {},
     "output_type": "display_data"
    }
   ],
   "source": [
    "sns.pairplot(fitnessdf.drop(['Embarked.S', 'Embarked.Q', 'Embarked.C', 'Pclass.1', 'Pclass.2', 'Pclass.3'] ,axis=1), hue='Sex', diag_kind='hist', dropna=True)"
   ]
  },
  {
   "cell_type": "markdown",
   "metadata": {},
   "source": [
    "While survival rates for women are higher, we musn't forget there were close to twice as many men on the ship compared to women."
   ]
  },
  {
   "cell_type": "code",
   "execution_count": 44,
   "metadata": {
    "collapsed": false
   },
   "outputs": [
    {
     "name": "stdout",
     "output_type": "stream",
     "text": [
      "Female: 35.24%, Male: 64.76%\n"
     ]
    }
   ],
   "source": [
    "ratiof = sum(source_df.Sex == 'female')/len(source_df)*100\n",
    "ratiom = sum(source_df.Sex == 'male')/len(source_df)*100\n",
    "print('Female: {:.2f}%, Male: {:.2f}%'.format(ratiof, ratiom))"
   ]
  },
  {
   "cell_type": "markdown",
   "metadata": {},
   "source": [
    "However, total survival rate for females is around 1/4 of the the whole ship, while for men is less than half of that, i.e. roughly 1/8. This means that the higher number of female survivors is not solely due to there being less females than males on board."
   ]
  },
  {
   "cell_type": "code",
   "execution_count": 45,
   "metadata": {
    "collapsed": false
   },
   "outputs": [
    {
     "name": "stdout",
     "output_type": "stream",
     "text": [
      "Total survival rates\n",
      "Female: 26.15%, Male: 12.23%\n"
     ]
    }
   ],
   "source": [
    "ratiof = sum((source_df.Sex == 'female') & (source_df.Survived == 1))/len(source_df)*100\n",
    "ratiom = sum((source_df.Sex == 'male') & (source_df.Survived == 1))/len(source_df)*100\n",
    "print('Total survival rates')\n",
    "print('Female: {:.2f}%, Male: {:.2f}%'.format(ratiof, ratiom))"
   ]
  },
  {
   "cell_type": "code",
   "execution_count": 46,
   "metadata": {
    "collapsed": false
   },
   "outputs": [
    {
     "name": "stdout",
     "output_type": "stream",
     "text": [
      "In-sex survival rates\n",
      "Female: 74.20%, Male: 18.89%\n"
     ]
    }
   ],
   "source": [
    "ratiof = sum((source_df.Sex == 'female') & (source_df.Survived == 1))/sum(source_df.Sex == 'female')*100\n",
    "ratiom = sum((source_df.Sex == 'male') & (source_df.Survived == 1))/sum(source_df.Sex == 'male')*100\n",
    "print('In-sex survival rates')\n",
    "print('Female: {:.2f}%, Male: {:.2f}%'.format(ratiof, ratiom))"
   ]
  },
  {
   "cell_type": "markdown",
   "metadata": {},
   "source": [
    "Survival rates among females is 74.2%, and 18.89% among males. This assumes that the data provided in train.csv is representative of the ship's total data. "
   ]
  },
  {
   "cell_type": "markdown",
   "metadata": {},
   "source": [
    "### Dimensionality Reduction"
   ]
  },
  {
   "cell_type": "code",
   "execution_count": 47,
   "metadata": {
    "collapsed": false
   },
   "outputs": [],
   "source": [
    "from sklearn.decomposition import PCA\n",
    "\n",
    "pca, reduced = {}, {}\n",
    "fitnessval, target = fitnessdf.values[:, 1:], fitnessdf.values[:, 0]\n",
    "gpca = PCA(whiten=True)\n",
    "greduced = gpca.fit_transform(fitnessval)\n",
    "# greduced = gpca.transform(numericdf.values[:, 1:])"
   ]
  },
  {
   "cell_type": "code",
   "execution_count": 48,
   "metadata": {
    "collapsed": false
   },
   "outputs": [
    {
     "data": {
      "text/plain": [
       "array([  4.51911687e-01,   1.57506552e-01,   1.25331773e-01,\n",
       "         1.10048298e-01,   6.69717686e-02,   5.77430276e-02,\n",
       "         3.04868939e-02,   1.17370226e-31,   5.85360144e-32])"
      ]
     },
     "execution_count": 48,
     "metadata": {},
     "output_type": "execute_result"
    }
   ],
   "source": [
    "gpca.explained_variance_ratio_"
   ]
  },
  {
   "cell_type": "markdown",
   "metadata": {},
   "source": [
    "First 2 components account for close to 99% of all variance. "
   ]
  },
  {
   "cell_type": "code",
   "execution_count": null,
   "metadata": {
    "collapsed": false
   },
   "outputs": [],
   "source": []
  },
  {
   "cell_type": "markdown",
   "metadata": {
    "collapsed": true
   },
   "source": [
    "## Prediction"
   ]
  },
  {
   "cell_type": "markdown",
   "metadata": {
    "collapsed": false
   },
   "source": [
    "We'll try to build a random forest ensemble to try and predict which passengers survived the titanic ship wreck. The ensembles will comprise several decision trees, which in sklearn are based on an [optimised version of the CART algorithm](http://scikit-learn.org/stable/modules/tree.html#tree-algorithms), as of this writing.\n",
    "\n",
    "**The algorithm allow us to do both classification, and regression. If we were interested in computing the probability of survival, we could use the RandomForestRegressor**\n",
    "\n",
    "\n",
    "Not all variables in the data set are necessary for our model, so we should drop some of them.\n",
    "\n",
    "PassengerId is just an indentifier, as are Ticket and Name , and none would add value to our model. Cabin is the location of a passenger's cabin. Perhaps in location-based model it would be useful, provided that we have the knew the positions of each cabin, and assumed passengers in higher cabins had had chances of survival. But we don't, so we discard it.\n"
   ]
  },
  {
   "cell_type": "markdown",
   "metadata": {},
   "source": [
    "Since our test data has no outcome variable, we're going to split the training data into three: training, testing, validation. The first to train the model, the second to tune parameters for performance, and the third to run a blind test to verify our model's generalisation. This leaves us with less data for each stage (traning, testing, validation), but hopefully it'll yield better results."
   ]
  },
  {
   "cell_type": "code",
   "execution_count": 49,
   "metadata": {
    "collapsed": false
   },
   "outputs": [
    {
     "name": "stdout",
     "output_type": "stream",
     "text": [
      "Train[623], Test[178], Validate[90]\n"
     ]
    },
    {
     "data": {
      "text/html": [
       "<div>\n",
       "<table border=\"1\" class=\"dataframe\">\n",
       "  <thead>\n",
       "    <tr style=\"text-align: right;\">\n",
       "      <th></th>\n",
       "      <th>Survived</th>\n",
       "      <th>Sex</th>\n",
       "      <th>SibSp</th>\n",
       "      <th>Parch</th>\n",
       "      <th>Embarked.S</th>\n",
       "      <th>Embarked.C</th>\n",
       "      <th>Embarked.Q</th>\n",
       "      <th>Pclass.3</th>\n",
       "      <th>Pclass.1</th>\n",
       "      <th>Pclass.2</th>\n",
       "      <th>Solo</th>\n",
       "    </tr>\n",
       "  </thead>\n",
       "  <tbody>\n",
       "    <tr>\n",
       "      <th>739</th>\n",
       "      <td>0</td>\n",
       "      <td>0</td>\n",
       "      <td>0</td>\n",
       "      <td>0</td>\n",
       "      <td>1</td>\n",
       "      <td>0</td>\n",
       "      <td>0</td>\n",
       "      <td>1</td>\n",
       "      <td>0</td>\n",
       "      <td>0</td>\n",
       "      <td>1</td>\n",
       "    </tr>\n",
       "    <tr>\n",
       "      <th>393</th>\n",
       "      <td>1</td>\n",
       "      <td>1</td>\n",
       "      <td>1</td>\n",
       "      <td>0</td>\n",
       "      <td>0</td>\n",
       "      <td>1</td>\n",
       "      <td>0</td>\n",
       "      <td>0</td>\n",
       "      <td>1</td>\n",
       "      <td>0</td>\n",
       "      <td>0</td>\n",
       "    </tr>\n",
       "    <tr>\n",
       "      <th>736</th>\n",
       "      <td>0</td>\n",
       "      <td>1</td>\n",
       "      <td>1</td>\n",
       "      <td>3</td>\n",
       "      <td>1</td>\n",
       "      <td>0</td>\n",
       "      <td>0</td>\n",
       "      <td>1</td>\n",
       "      <td>0</td>\n",
       "      <td>0</td>\n",
       "      <td>0</td>\n",
       "    </tr>\n",
       "    <tr>\n",
       "      <th>426</th>\n",
       "      <td>1</td>\n",
       "      <td>1</td>\n",
       "      <td>1</td>\n",
       "      <td>0</td>\n",
       "      <td>1</td>\n",
       "      <td>0</td>\n",
       "      <td>0</td>\n",
       "      <td>0</td>\n",
       "      <td>0</td>\n",
       "      <td>1</td>\n",
       "      <td>0</td>\n",
       "    </tr>\n",
       "    <tr>\n",
       "      <th>535</th>\n",
       "      <td>1</td>\n",
       "      <td>1</td>\n",
       "      <td>0</td>\n",
       "      <td>2</td>\n",
       "      <td>1</td>\n",
       "      <td>0</td>\n",
       "      <td>0</td>\n",
       "      <td>0</td>\n",
       "      <td>0</td>\n",
       "      <td>1</td>\n",
       "      <td>0</td>\n",
       "    </tr>\n",
       "  </tbody>\n",
       "</table>\n",
       "</div>"
      ],
      "text/plain": [
       "     Survived  Sex  SibSp  Parch  Embarked.S  Embarked.C  Embarked.Q  \\\n",
       "739         0    0      0      0           1           0           0   \n",
       "393         1    1      1      0           0           1           0   \n",
       "736         0    1      1      3           1           0           0   \n",
       "426         1    1      1      0           1           0           0   \n",
       "535         1    1      0      2           1           0           0   \n",
       "\n",
       "     Pclass.3  Pclass.1  Pclass.2  Solo  \n",
       "739         1         0         0     1  \n",
       "393         0         1         0     0  \n",
       "736         1         0         0     0  \n",
       "426         0         0         1     0  \n",
       "535         0         0         1     0  "
      ]
     },
     "execution_count": 49,
     "metadata": {},
     "output_type": "execute_result"
    }
   ],
   "source": [
    "training_indeces = np.random.choice(range(0, len(source_df)), size=int(len(source_df)*.70), replace=False)\n",
    "testing_indeces = np.random.choice([x for x in range(0, len(source_df)) if x not in training_indeces], size=int(len(source_df)*.20), replace=False)\n",
    "validation_indeces = [x for x in range(0, len(source_df)) if x not in np.concatenate((training_indeces, testing_indeces))]\n",
    "\n",
    "traindf = fitnessdf.loc[training_indeces][:]\n",
    "testdf = fitnessdf.loc[testing_indeces][:]\n",
    "validatedf = fitnessdf.loc[validation_indeces][:]\n",
    "\n",
    "dataframes = dict(train=traindf, test=testdf, validate=validatedf, assess=assessmentdf)\n",
    "\n",
    "print('Train[{}], Test[{}], Validate[{}]'.format(len(traindf), len(testdf), len(validatedf)))\n",
    "\n",
    "for key, df in dataframes.items():\n",
    "    partners = df.SibSp + df.Parch\n",
    "    df['Solo'] = [1 if x == 0 else 0 for x in partners]\n",
    "    #df.drop(['SibSp', 'Parch'], axis=1, inplace=True)\n",
    "\n",
    "dataframes['train'].head()"
   ]
  },
  {
   "cell_type": "code",
   "execution_count": null,
   "metadata": {
    "collapsed": false
   },
   "outputs": [],
   "source": []
  },
  {
   "cell_type": "markdown",
   "metadata": {},
   "source": [
    "Now, we can build a classifier, and run predictions. The classifiers in sklearn work with numpy arrays, so we need to get the numpy array that corresponds to our DataFrame, and that means we must convert our categorical variables into integers."
   ]
  },
  {
   "cell_type": "markdown",
   "metadata": {},
   "source": [
    "Let's make sure we don't have any missing data"
   ]
  },
  {
   "cell_type": "code",
   "execution_count": 50,
   "metadata": {
    "collapsed": false,
    "scrolled": true
   },
   "outputs": [
    {
     "name": "stdout",
     "output_type": "stream",
     "text": [
      "assess missing values count: 0\n",
      "test missing values count: 0\n",
      "train missing values count: 0\n",
      "validate missing values count: 0\n"
     ]
    }
   ],
   "source": [
    "for key, df in dataframes.items():\n",
    "    print(\"{} missing values count:\".format(key), sum(sum(pd.isnull(df[col])) for col in df.keys()))"
   ]
  },
  {
   "cell_type": "markdown",
   "metadata": {},
   "source": [
    "And fit/train the model"
   ]
  },
  {
   "cell_type": "markdown",
   "metadata": {},
   "source": [
    "### Random Forest"
   ]
  },
  {
   "cell_type": "markdown",
   "metadata": {},
   "source": [
    "**Original Data Based Random Forest**"
   ]
  },
  {
   "cell_type": "code",
   "execution_count": 51,
   "metadata": {
    "collapsed": false
   },
   "outputs": [
    {
     "data": {
      "text/plain": [
       "0.84269662921348309"
      ]
     },
     "execution_count": 51,
     "metadata": {},
     "output_type": "execute_result"
    }
   ],
   "source": [
    "randforest = RandomForestClassifier(n_estimators=11, n_jobs=-1)\n",
    "randforest = randforest.fit(traindf.values[0::,1::], traindf.values[0::,0])\n",
    "randforest.score(traindf.values[0::,1::], traindf.values[0::,0])"
   ]
  },
  {
   "cell_type": "markdown",
   "metadata": {},
   "source": [
    "Testing performance"
   ]
  },
  {
   "cell_type": "code",
   "execution_count": 52,
   "metadata": {
    "collapsed": false,
    "scrolled": false
   },
   "outputs": [
    {
     "data": {
      "text/plain": [
       "0.7921348314606742"
      ]
     },
     "execution_count": 52,
     "metadata": {},
     "output_type": "execute_result"
    }
   ],
   "source": [
    "randforest.score(testdf.values[0::,1::], testdf.values[0::,0])"
   ]
  },
  {
   "cell_type": "markdown",
   "metadata": {},
   "source": [
    "Validation performance"
   ]
  },
  {
   "cell_type": "code",
   "execution_count": 53,
   "metadata": {
    "collapsed": false,
    "scrolled": false
   },
   "outputs": [
    {
     "data": {
      "text/plain": [
       "0.81111111111111112"
      ]
     },
     "execution_count": 53,
     "metadata": {},
     "output_type": "execute_result"
    }
   ],
   "source": [
    "randforest.score(validatedf.values[0::,1::], validatedf.values[0::,0])"
   ]
  },
  {
   "cell_type": "markdown",
   "metadata": {},
   "source": [
    "**PCA Based Random Forest**"
   ]
  },
  {
   "cell_type": "code",
   "execution_count": 54,
   "metadata": {
    "collapsed": false
   },
   "outputs": [
    {
     "data": {
      "text/plain": [
       "0.8346709470304976"
      ]
     },
     "execution_count": 54,
     "metadata": {},
     "output_type": "execute_result"
    }
   ],
   "source": [
    "randforestRed = RandomForestClassifier(n_estimators=10, n_jobs=-1, min_samples_split=10)\n",
    "randforestRed = randforestRed.fit(greduced[training_indeces,:2], traindf.values[0::,0])\n",
    "randforestRed.score(greduced[training_indeces,:2], traindf.values[0::,0])"
   ]
  },
  {
   "cell_type": "markdown",
   "metadata": {},
   "source": [
    "Testing performance"
   ]
  },
  {
   "cell_type": "code",
   "execution_count": 55,
   "metadata": {
    "collapsed": false
   },
   "outputs": [
    {
     "data": {
      "text/plain": [
       "0.7528089887640449"
      ]
     },
     "execution_count": 55,
     "metadata": {},
     "output_type": "execute_result"
    }
   ],
   "source": [
    "randforestRed.score(greduced[testing_indeces,:2], testdf.values[0::,0])"
   ]
  },
  {
   "cell_type": "markdown",
   "metadata": {},
   "source": [
    "Validation performance"
   ]
  },
  {
   "cell_type": "code",
   "execution_count": 56,
   "metadata": {
    "collapsed": false
   },
   "outputs": [
    {
     "data": {
      "text/plain": [
       "0.7528089887640449"
      ]
     },
     "execution_count": 56,
     "metadata": {},
     "output_type": "execute_result"
    }
   ],
   "source": [
    "randforestRed.score(greduced[testing_indeces,:2], testdf.values[0::,0])"
   ]
  },
  {
   "cell_type": "markdown",
   "metadata": {},
   "source": [
    "### SVM"
   ]
  },
  {
   "cell_type": "markdown",
   "metadata": {},
   "source": [
    "**Original Data Based SVM**"
   ]
  },
  {
   "cell_type": "code",
   "execution_count": 57,
   "metadata": {
    "collapsed": false
   },
   "outputs": [
    {
     "data": {
      "image/png": "[encoded data removed]",
      "text/plain": [
       "<matplotlib.figure.Figure at 0x116214d30>"
      ]
     },
     "metadata": {},
     "output_type": "display_data"
    }
   ],
   "source": [
    "param_range = np.logspace(-6, 3, 10)\n",
    "train_scores, test_scores = validation_curve(\n",
    "    svm.SVC(), traindf.values[:,1::], traindf.values[0::,0], param_name=\"gamma\", param_range = param_range, cv=10, scoring=\"accuracy\", n_jobs=1)\n",
    "plot_validation_curve(train_scores, test_scores, param_range)"
   ]
  },
  {
   "cell_type": "code",
   "execution_count": 58,
   "metadata": {
    "collapsed": false
   },
   "outputs": [
    {
     "data": {
      "text/plain": [
       "0.6292134831460674"
      ]
     },
     "execution_count": 58,
     "metadata": {},
     "output_type": "execute_result"
    }
   ],
   "source": [
    "from sklearn import svm\n",
    "\n",
    "smvc = svm.SVC(gamma=10**-3)\n",
    "smvc.fit(traindf.values[0::,1::], traindf.values[0::,0])\n",
    "smvc.score(traindf.values[0::,1::], traindf.values[0::,0])"
   ]
  },
  {
   "cell_type": "markdown",
   "metadata": {},
   "source": [
    "Testing Performance"
   ]
  },
  {
   "cell_type": "code",
   "execution_count": 59,
   "metadata": {
    "collapsed": false
   },
   "outputs": [
    {
     "data": {
      "text/plain": [
       "0.6067415730337079"
      ]
     },
     "execution_count": 59,
     "metadata": {},
     "output_type": "execute_result"
    }
   ],
   "source": [
    "smvc.score(testdf.values[0::,1::], testdf.values[0::,0])"
   ]
  },
  {
   "cell_type": "markdown",
   "metadata": {},
   "source": [
    "Validation Performance"
   ]
  },
  {
   "cell_type": "code",
   "execution_count": 60,
   "metadata": {
    "collapsed": false
   },
   "outputs": [
    {
     "data": {
      "text/plain": [
       "0.5444444444444444"
      ]
     },
     "execution_count": 60,
     "metadata": {},
     "output_type": "execute_result"
    }
   ],
   "source": [
    "smvc.score(validatedf.values[0::,1::], validatedf.values[0::,0])"
   ]
  },
  {
   "cell_type": "code",
   "execution_count": 61,
   "metadata": {
    "collapsed": false
   },
   "outputs": [
    {
     "data": {
      "image/png": "[encoded data removed]",
      "text/plain": [
       "<matplotlib.figure.Figure at 0x11621efd0>"
      ]
     },
     "metadata": {},
     "output_type": "display_data"
    }
   ],
   "source": [
    "param_range = np.logspace(-6, 3, 10)\n",
    "train_scores, test_scores = validation_curve(\n",
    "    svm.SVC(), greduced[training_indeces,:2], traindf.values[0::,0], param_name=\"gamma\", param_range = param_range, cv=10, scoring=\"accuracy\", n_jobs=1)\n",
    "plot_validation_curve(train_scores, test_scores, param_range)"
   ]
  },
  {
   "cell_type": "markdown",
   "metadata": {},
   "source": [
    "**PCA Based SVM**"
   ]
  },
  {
   "cell_type": "code",
   "execution_count": 62,
   "metadata": {
    "collapsed": false
   },
   "outputs": [
    {
     "data": {
      "text/plain": [
       "0.7768860353130016"
      ]
     },
     "execution_count": 62,
     "metadata": {},
     "output_type": "execute_result"
    }
   ],
   "source": [
    "from sklearn import svm\n",
    "\n",
    "smvcRed = svm.SVC(gamma=10**0)\n",
    "smvcRed.fit(greduced[training_indeces,:2], traindf.values[0::,0])\n",
    "smvcRed.score(greduced[training_indeces,:2], traindf.values[0::,0])"
   ]
  },
  {
   "cell_type": "code",
   "execution_count": 63,
   "metadata": {
    "collapsed": false
   },
   "outputs": [
    {
     "data": {
      "text/plain": [
       "0.7696629213483146"
      ]
     },
     "execution_count": 63,
     "metadata": {},
     "output_type": "execute_result"
    }
   ],
   "source": [
    "smvcRed.score(greduced[testing_indeces,:2], testdf.values[0::,0])"
   ]
  },
  {
   "cell_type": "code",
   "execution_count": 64,
   "metadata": {
    "collapsed": false
   },
   "outputs": [
    {
     "data": {
      "text/plain": [
       "0.78888888888888886"
      ]
     },
     "execution_count": 64,
     "metadata": {},
     "output_type": "execute_result"
    }
   ],
   "source": [
    "smvcRed.score(greduced[validation_indeces,:2], validatedf.values[0::,0])"
   ]
  },
  {
   "cell_type": "code",
   "execution_count": null,
   "metadata": {
    "collapsed": true
   },
   "outputs": [],
   "source": []
  },
  {
   "cell_type": "code",
   "execution_count": 65,
   "metadata": {
    "collapsed": false
   },
   "outputs": [],
   "source": [
    "models = {'rf': randforest, 'rfpca': randforestRed, 'svm': smvc, 'svmpca': smvcRed}\n",
    "\n",
    "for k, m in models.items():\n",
    "    if k.endswith('pca'):\n",
    "        pca = PCA(whiten=True)\n",
    "        data = pca.fit_transform(assessmentdf.values[:,:])\n",
    "        data = data[:,:2]\n",
    "    else:\n",
    "        data = assessmentdf.values[:,:]\n",
    "    \n",
    "    predictions = m.predict(data).astype(int)\n",
    "        \n",
    "    with open('predictions-{}.csv'.format(k), 'w') as fp:\n",
    "        writer = csv.writer(fp)\n",
    "        writer.writerow(['PassengerId', 'Survived'])\n",
    "\n",
    "        for idx, val in zip(testing_passenger_ids, predictions):\n",
    "            writer.writerow([idx, val])\n",
    "    "
   ]
  },
  {
   "cell_type": "code",
   "execution_count": null,
   "metadata": {
    "collapsed": true
   },
   "outputs": [],
   "source": []
  }
 ],
 "metadata": {
  "kernelspec": {
   "display_name": "Python 3",
   "language": "python",
   "name": "python3"
  },
  "language_info": {
   "codemirror_mode": {
    "name": "ipython",
    "version": 3
   },
   "file_extension": ".py",
   "mimetype": "text/x-python",
   "name": "python",
   "nbconvert_exporter": "python",
   "pygments_lexer": "ipython3",
   "version": "3.5.1"
  }
 },
 "nbformat": 4,
 "nbformat_minor": 0
}
